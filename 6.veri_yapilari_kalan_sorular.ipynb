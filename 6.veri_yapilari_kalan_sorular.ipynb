{
 "cells": [
  {
   "cell_type": "markdown",
   "metadata": {},
   "source": [
    "## SORU 2\n",
    "\n",
    "0'dan 100'e kadar karışık sırada sayıları tutan bir listeniz olduğunu düşünün. Bu liste içerisinde bu defa n tane yerine 1 adet sayı eksik. Eksik olan sayıyı bulunuz."
   ]
  },
  {
   "cell_type": "markdown",
   "metadata": {},
   "source": [
    "1. Öncelikle random modülünü içe aktarmamız gerekiyor.\n",
    "\n",
    "2. Ardından 0 ile 100 arasında karışık bir liste elde etmek için random modülünü kullanacağız ve ardından kardığımız sayılardan bir tanesini sileceğiz. \n",
    "\n",
    "3. Bir adet elemanını eksilttiğimiz listenin ardından, bir adet de tüm elemanları olan bir set oluşturacağız.\n",
    "\n",
    "4. Listemizi set'e çevirip, sonrasında farkını alarak eksik olan sayıyı bulacağız. "
   ]
  },
  {
   "cell_type": "code",
   "execution_count": null,
   "metadata": {},
   "outputs": [],
   "source": [
    "import random\n",
    "\n",
    "my_list = [i for i in range(0, 101)]\n",
    "random.shuffle(my_list)\n",
    "del my_list[0]\n",
    "\n",
    "full_set = {j for j in range(0, 101)}\n",
    "\n",
    "print(full_set - set(my_list))"
   ]
  },
  {
   "cell_type": "markdown",
   "metadata": {},
   "source": [
    "## 3. SORU\n",
    "\n",
    "Bir liste üzerinde sıralama algoritmasını kullanarak listeyi sıralayınız. (Selection Sort)\n"
   ]
  },
  {
   "cell_type": "markdown",
   "metadata": {},
   "source": [
    "1. Öncelikle random modülünü içe aktarmamız gerekiyor.\n",
    "\n",
    "2. Ardından 0 ile 10 arasında karışık bir liste elde etmek için random modülünü kullanacağız.\n",
    "\n",
    "- Listede yer alan minimum değeri 0. index'e alarak sıralamayı başlatmamız gerekiyor. Sonrasında ise bir sonraki index'te hep listenin içerisinde yer alan minimum değer gelecek şekilde bir kod yazmalıyız. \n",
    "\n",
    "4. Fonksiyonumuzu oluşturduktan sonra iç içe for döngüsü kuracağız. İlk for döngüsünden çıkan değeri minimum değer olarak tutmamız sonrasında ise ikinci for döngüsünde (bir önceki döngüde ele elınan index'ten sonraki indexler ele alınacak şekilde) büyüklük-küçüklük karşılaştırması yapmamız gerekiyor. \n",
    "\n",
    "5. Eğer ikinci for döngüsündeki eleman birinci for döngüsünde yer alan elemandan daha küçük ise bu iki elemanın yerini değiştirecek işlemi yazmalıyız. "
   ]
  },
  {
   "cell_type": "code",
   "execution_count": null,
   "metadata": {},
   "outputs": [],
   "source": [
    "import random\n",
    "\n",
    "sortList = [i for i in range(0, 11)]\n",
    "random.shuffle(sortList)\n",
    "print(sortList)\n",
    "\n",
    "\n",
    "def selection_sort(sortList):  \n",
    "  lenList = len(sortList)\n",
    "\n",
    "  for i in range(lenList):\n",
    "      min = sortList[i]\n",
    "      \n",
    "      for j in range( i +1, len(sortList)):\n",
    "        if sortList[j] < min:\n",
    "          min = sortList[j]\n",
    "          sortList[i], sortList[j] = sortList[j], sortList[i]\n",
    "\n",
    "  print(sortList)\n",
    "\n",
    "\n",
    "\n",
    "selection_sort(sortList)"
   ]
  },
  {
   "cell_type": "markdown",
   "metadata": {},
   "source": [
    "## 4. SORU\n",
    "\n",
    "Burada bir fonksiyon yazmanız isteniyor. Fonksiyon bir integer array nums ve bir hedef target değişkeni almalı ve bizlere toplamı target olan indexleri dönmeli.\n",
    "\n",
    "Kurallar: Aynı index’teki değeri iki defa kullanamayız.\n",
    "\n",
    "Örnekler:\n",
    "\n",
    "Parametreler: nums = [2,7,11,15], target = 9 Dönen Değer: [0,1] Açıklama: nums[0] ve nums[1]'deki değerlerin toplamı 9 yaptığı için çıktımız [0, 1] oldu.\n",
    "\n",
    "Parametreler: nums = [3,2,4], target = 6 Dönen Değer: [1,2] Açıklama: nums[1] ve nums[2]'deki değerlerin toplamı 6 yaptığı için çıktımız [1, 2] oldu. Not: Burada [0,0] çıktı olarak kabul edilemez. Çünkü aynı index'i kullanamayacağımız söylenmişti.\n",
    "\n",
    "Parametreler: nums = [3,2,4,1,3], target = 7 Dönen Değer: [2,4] Açıklama: nums[2] ve nums[4]'deki değerlerin toplamı 7 yaptığı için çıktımız [2, 4] oldu."
   ]
  },
  {
   "cell_type": "markdown",
   "metadata": {},
   "source": [
    "1. Bir fonksiyon kurarak işleme başlamalıyız. Parametreler soruda görüldüğü şekilde nums ve target olmalı. \n",
    "\n",
    "2. Sonraki adımda iç içe for döngüsü tasarlayarak listemiz içerisindeki bir elemanı diğer elemanlarla toplama işlemine tek tek sokup, iki elemanın toplamı target değeri olduğunda döngüden çıkarak ekrana bu iki elamanın index değerlerini bastıracağız. "
   ]
  },
  {
   "cell_type": "code",
   "execution_count": null,
   "metadata": {},
   "outputs": [],
   "source": [
    "def arrayTargetTotal(nums, target):\n",
    "  for i in nums:\n",
    "    for j in nums:\n",
    "      if nums.index(i) != nums.index(j) and i + j == target:\n",
    "      \n",
    "        print([nums.index(i), nums.index(j)])\n",
    "\n",
    "      break\n",
    "\n",
    "arrayTargetTotal([2,7,11,15], 9)"
   ]
  }
 ],
 "metadata": {
  "language_info": {
   "name": "python"
  },
  "orig_nbformat": 4
 },
 "nbformat": 4,
 "nbformat_minor": 2
}
