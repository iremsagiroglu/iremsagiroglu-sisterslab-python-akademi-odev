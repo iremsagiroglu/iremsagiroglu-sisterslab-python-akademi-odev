{
 "cells": [
  {
   "cell_type": "markdown",
   "metadata": {},
   "source": [
    "### Taş, Kağıt, Makas Oyunu\n",
    "Kağıt taşı yener\n",
    "Taş makası yener\n",
    "Makas kağıdı yener\n",
    "Yukarıdaki kuralların geçerli olduğu bir taş, kağıt, makas oyunu kodlayacağız.\n",
    "\n",
    "1. Öncelikle random modülünü içe aktarıyoruz.\n",
    "2. Paun hesaplaması yapılabilmesi için player_score ve computer_score adında iki tane değişken belirleyip bunları 0'a eşitliyoruz.\n",
    "3. print_result adında bir fonksiyon tanımlıyoruz, içerisine kontrol yapısı ile puan alma şartlarını belirliyoruz.\n",
    "4. Oyunun kurallarını ekrana yazdıran kodu yazıyoruz\n",
    "5. Kullanıcıdan input almamızı sağlayan kodu yazıyoruz\n",
    "6. Oyunun kurallarını belirten kontrol yapıları kodlarını yazıyoruz"
   ]
  },
  {
   "cell_type": "code",
   "execution_count": null,
   "metadata": {},
   "outputs": [],
   "source": [
    "import random\n",
    "player_score = computer_score = 0\n",
    "computer_choice = 0\n",
    "def print_result(winner = \"Bilgisayar\"):\n",
    "    print(f\"Bilgisayarın Seçimi: {computer_choice}\\n\\nKazanan: {winner}\")\n",
    "    global player_score, computer_score\n",
    "    if winner == \"Bilgisayar\":\n",
    "        computer_score += 100\n",
    "    else:\n",
    "        player_score += 100\n",
    "print(\"Taş Kağıt Makas Oyununa Hoş geldiniz!\\n\" + \"-\"*37)\n",
    "while True:\n",
    "    print(\"\\n1 - Taş\\n2 - Kağıt \\n3 - Makas\\nOyundan çıkmak isterseniz bu değerler dışında bir değer giriniz\")\n",
    "    player_choice = int(input(\"Seçiminizi yapınız\"))\n",
    "    computer_choice = random.choice([1, 2, 3])\n",
    "    if player_choice == computer_choice:\n",
    "        print(\"Beraber, yeniden oynayınız\")\n",
    "    elif player_choice == 1:\n",
    "        if computer_choice == 2:\n",
    "            print_result()\n",
    "        elif computer_choice == 3:\n",
    "            print_result(\"Kullanıcı\")\n",
    "    elif player_choice == 2:\n",
    "        if computer_choice == 1:\n",
    "            print_result(\"Kullanıcı\")\n",
    "        elif computer_choice == 3:\n",
    "            print_result()\n",
    "    elif player_choice == 3:\n",
    "        if computer_choice == 1:\n",
    "            print_result()\n",
    "        elif computer_choice == 2:\n",
    "            print_result(\"Kullanıcı\")\n",
    "    else:\n",
    "        break\n",
    "print(f\"\\n\\nKullanıcı skoru {player_score} - Bilgisayarın skoru {computer_score}\")\n",
    "if player_score > computer_score: print(\"Kazanan Kullanıcı\")\n",
    "elif player_score < computer_score: print(\"Kazanan Bilgisayar\")\n",
    "else: print(\"Oyun Berabere\")"
   ]
  }
 ],
 "metadata": {
  "kernelspec": {
   "display_name": "Python 3.10.7 64-bit",
   "language": "python",
   "name": "python3"
  },
  "language_info": {
   "name": "python",
   "version": "3.10.7"
  },
  "orig_nbformat": 4,
  "vscode": {
   "interpreter": {
    "hash": "aee8b7b246df8f9039afb4144a1f6fd8d2ca17a180786b69acc140d282b71a49"
   }
  }
 },
 "nbformat": 4,
 "nbformat_minor": 2
}
