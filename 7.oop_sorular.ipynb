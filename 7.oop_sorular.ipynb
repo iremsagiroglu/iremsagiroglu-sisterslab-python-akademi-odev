{
 "cells": [
  {
   "cell_type": "markdown",
   "metadata": {},
   "source": [
    "## SORU 1\n",
    "### Uçuşların ve pilotların yönetimi için bir sistem tasarlayın.\n",
    "\n",
    "1. Hava yolu şirketleri uçuşları gerçekleştirir. Her hava yolunun bir kimliği vardır.\n",
    "2. Hava yolu şirketi, farklı tipteki uçaklara sahiptir.\n",
    "\n",
    "3. Uçaklar çalışır veya onarım durumunda olabilir.\n",
    "\n",
    "4. Her uçuşun benzersiz kimliği, kalkacağı ve ineceği havaalanı, kalkış ve iniş saatleri vardır.\n",
    "\n",
    "5. Her uçuşun bir pilotu ve yardımcı pilotu vardır ve uçağı kullanırlar.\n",
    "\n",
    "6. Havaalanlarının benzersiz kimlikleri ve isimleri vardır.\n",
    "\n",
    "7. Hava yolu şirketlerinin pilotları vardır ve her pilotun bir deneyim seviyesi mevcuttur.\n",
    "\n",
    "8. Bir uçak tipi, belirli sayıda pilota ihtiyaç duyabilir."
   ]
  },
  {
   "cell_type": "code",
   "execution_count": 8,
   "metadata": {},
   "outputs": [],
   "source": [
    "class Airway:\n",
    "    def __init__(self, airway_id, airplaneType, condition, pilot):\n",
    "        self.airway_id = airway_id\n",
    "        self.airplanetype = airplaneType\n",
    "        self.condition = condition\n",
    "        self.pilot = pilot"
   ]
  },
  {
   "cell_type": "code",
   "execution_count": 9,
   "metadata": {},
   "outputs": [],
   "source": [
    "class Flight(Airway):\n",
    "    def __init__(self, airway_id, airplaneType, condition, pilot, flight_id, takeOffAirport, arrivalAirport, takeOffTime, arrivalTime, copilot):\n",
    "        super().__init__(self, airway_id, airplaneType, condition, pilot)\n",
    "        self.flight_id = flight_id\n",
    "        self.takeOffAirport = takeOffAirport\n",
    "        self.arrivalAirport = arrivalAirport\n",
    "        self.takeOffTime = takeOffTime\n",
    "        self.arrivalTime = arrivalTime\n",
    "        self.copilot = copilot\n",
    "\n",
    "    def aviating(self):\n",
    "        print(f\"{self.pilot} uçak kullanır.\") \n",
    "\n",
    "    def aviating(self):\n",
    "        print(f\"{self.copilot} uçak kullanır.\") \n",
    "\n"
   ]
  },
  {
   "cell_type": "code",
   "execution_count": 10,
   "metadata": {},
   "outputs": [],
   "source": [
    "class Airport(Flight):\n",
    "    def __init__(self, airway_id, airplaneType, condition, pilot, flight_id, takeOffAirport, arrivalAirport, takeOffTime, arrivalTime, copilot, airport_id, airport_name):\n",
    "        super().__init__(self, airway_id, airplaneType, condition, pilot, flight_id, takeOffAirport, arrivalAirport, takeOffTime, arrivalTime, copilot)\n",
    "        self.airport_id = airport_id\n",
    "        self.airport_name = airport_name"
   ]
  },
  {
   "cell_type": "code",
   "execution_count": 11,
   "metadata": {},
   "outputs": [],
   "source": [
    "class Pilot:\n",
    "    def __init__(self, experience):\n",
    "        self.experience = experience"
   ]
  },
  {
   "cell_type": "markdown",
   "metadata": {},
   "source": [
    "## SORU 2\n",
    "### Online film satan veya kiralayan uygulamanın sistemini tasarlayın.\n",
    "\n",
    "1. Uygulamada filmler listelenebilir, sıralanabilir ve kullanıcılar uygulamaya abone olabilir.\n",
    "\n",
    "2. Kullanıcılar abonelik için sistem üzerinden kredi satın alır.\n",
    "\n",
    "3. Sadece abone olan kullanıcılar, kredileri ile film kiralayabilir ve kiraladığı filmin kredi bedeli kadar hesabından düşülür.\n",
    "\n",
    "4. Normal kullanıcılar ve aboneler film satın alabilirler.\n",
    "\n",
    "5. Eğer film mevcut değil ise talep edilebilir.\n",
    "\n",
    "6. Bu sistemi tasvir eden Class(Sınıf) diyagramını çiziniz."
   ]
  },
  {
   "cell_type": "code",
   "execution_count": 12,
   "metadata": {},
   "outputs": [],
   "source": [
    "class Application:\n",
    "    def __init__(self, films, users, credit):\n",
    "        self.films = films\n",
    "        self.users = users\n",
    "        self.credit = credit\n",
    "\n",
    "    \n",
    "   \n",
    "    def listFilms(self):\n",
    "        print(\"Filmler listelendi\", self.films)\n",
    "\n",
    "    def sortFilms(self):\n",
    "        print(\"Filmler sıralandı\", self.films)\n",
    "\n",
    "    def subscribe(self):\n",
    "        if self.users == \"Subscribe\":\n",
    "            print(\"Abone oldunuz\")\n",
    "        else:\n",
    "            print(\"Lütfen önce abone olunuz.\")\n",
    "        \n",
    "\n",
    "    def buyCredit(self):\n",
    "        self.credit += int(input(\"Yüklenecek kredi miktarı.\"))\n",
    "        print(f\"{self.credit} krediniz vardır.\")"
   ]
  },
  {
   "cell_type": "code",
   "execution_count": 13,
   "metadata": {},
   "outputs": [],
   "source": [
    "class Film(Application):\n",
    "    def __init__(self, films, users, credit, film_name, rent_film_price, purchase_film_price):\n",
    "        super().__init__(self, films, users, credit)\n",
    "        self.film_name = film_name\n",
    "        self.rent_film_price = rent_film_price\n",
    "        self.purchase_film_price = purchase_film_price"
   ]
  },
  {
   "cell_type": "code",
   "execution_count": 14,
   "metadata": {},
   "outputs": [],
   "source": [
    "class Users(Film):\n",
    "    def __init__(self, films, users, credit, rent, purchase_film, request, film_name, film_price):\n",
    "        super(). __init__(self, films, users, credit, film_name, film_price)\n",
    "        self.rent = rent\n",
    "        self.purchase_film = purchase_film\n",
    "        self.request = request \n",
    "\n",
    "    def rentFilm(self):\n",
    "        if self.user == \"Abone\":\n",
    "            print(\"Film kiralandı\", self.rent)\n",
    "            self.credit -= self.rent_film_price\n",
    "            return self.rent_film_price\n",
    "        else:\n",
    "            print(\"Lütfen önce abone olunuz.\")\n",
    "\n",
    "    def purchaseFilm(self):\n",
    "        if self.purchase_film in self.film_name:\n",
    "            print(\"Filmi satın aldınız.\")\n",
    "            self.credit -= self.purchase_film_price\n",
    "\n",
    "        else:\n",
    "            print(input(\"Film uygulamada mevcut değil. Filmi talep etmek ister misiniz? (E/H)\")) \n",
    "            if \"E\":\n",
    "                print(\"Kullanıcı filmi talep etti\", self.request)\n",
    "\n",
    "            elif \"H\":\n",
    "                print(\"Film talebinde bulunmadınız. Dilediğinizde talep edebilirsiniz.\")\n",
    "\n",
    "            else:\n",
    "                print(\"Lütfen sadece Evet için 'E' ve Hayır için 'H' tuşlarına basınız.\")"
   ]
  }
 ],
 "metadata": {
  "kernelspec": {
   "display_name": "Python 3.10.7 64-bit",
   "language": "python",
   "name": "python3"
  },
  "language_info": {
   "codemirror_mode": {
    "name": "ipython",
    "version": 3
   },
   "file_extension": ".py",
   "mimetype": "text/x-python",
   "name": "python",
   "nbconvert_exporter": "python",
   "pygments_lexer": "ipython3",
   "version": "3.10.7"
  },
  "orig_nbformat": 4,
  "vscode": {
   "interpreter": {
    "hash": "aee8b7b246df8f9039afb4144a1f6fd8d2ca17a180786b69acc140d282b71a49"
   }
  }
 },
 "nbformat": 4,
 "nbformat_minor": 2
}
