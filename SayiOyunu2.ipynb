{
 "cells": [
  {
   "cell_type": "markdown",
   "metadata": {},
   "source": [
    "### Sayı Tahmini Oyunu -2\n",
    "İlk sayı tahmin oyunundan farklı olarak, bilgisayar kullanıcının tuttuğu sayıyı tahmin etmeye çalışacak.\n",
    "\n",
    "1. Öncelikle random modülünü içe aktaracağız\n",
    "2. computer_guess asında bir fonksiyon tanımlayacağız\n",
    "3. Kullanıcının bilgisayara vereceği geri dönütleri tanımlayacağız\n",
    "4. Bilgisayarın tahmin etmesi için gireceğimiz değeri yazacağız"
   ]
  },
  {
   "cell_type": "code",
   "execution_count": null,
   "metadata": {},
   "outputs": [],
   "source": [
    "import random\n",
    "\n",
    "def computer_guess(x):\n",
    "  start = 1\n",
    "  end = 100\n",
    "  result = \"\"\n",
    "\n",
    "  while result != \"d\":\n",
    "    guess = random.randint(start, end)\n",
    "    \n",
    "    result = input(f\"{guess} değeri aklından tuttuğun değerden büyükse (b) küçükse (k), doğruysa (d) giriniz\").lower() #lower küçük harfle yazdırır\n",
    "    if result == \"b\":\n",
    "      end = guess -1 \n",
    "\n",
    "    elif result == \"k\":\n",
    "      start = guess + 1\n",
    "\n",
    "  \n",
    "  print(\"Tebrikler, doğru tahmin\")  \n",
    "\n",
    "computer_guess(19)"
   ]
  }
 ],
 "metadata": {
  "kernelspec": {
   "display_name": "Python 3.10.7 64-bit",
   "language": "python",
   "name": "python3"
  },
  "language_info": {
   "name": "python",
   "version": "3.10.7"
  },
  "orig_nbformat": 4,
  "vscode": {
   "interpreter": {
    "hash": "aee8b7b246df8f9039afb4144a1f6fd8d2ca17a180786b69acc140d282b71a49"
   }
  }
 },
 "nbformat": 4,
 "nbformat_minor": 2
}
