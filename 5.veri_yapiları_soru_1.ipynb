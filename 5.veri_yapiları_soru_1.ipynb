{
 "cells": [
  {
   "cell_type": "markdown",
   "metadata": {},
   "source": [
    "## SORU\n",
    "\n",
    "0'dan 100e kadar karışık sırada sayıları tutan bir listeniz olduğunu düşünün. Bu liste içerisisnde n tane sayı eksik. n ve eksik sayıları bulunuz.\n",
    "\n",
    " örnek: my_list = [0, 7, 5, 8, 2] -> 0-10 arasında 6 adet sayı eksiktir. Eksik olan sayılar [1, 3, 4, 6, 9, 10]."
   ]
  },
  {
   "cell_type": "markdown",
   "metadata": {},
   "source": [
    "1. Öncelikle random modülünü içe aktarmamız gerekiyor.\n",
    "\n",
    "2. Ardından 0 ile 100 arasında karışık bir liste elde etmek için random modülünü kullanacağız.\n",
    "\n",
    "3. Çıkan listeyi print ettikten sonra rastgele sayıları silerek listeyi güncelleyeceğiz. "
   ]
  },
  {
   "cell_type": "code",
   "execution_count": 1,
   "metadata": {},
   "outputs": [],
   "source": [
    "import random\n",
    "\n",
    "my_list = [i for i in range(0, 101)]\n",
    "random.shuffle(my_list)"
   ]
  },
  {
   "cell_type": "markdown",
   "metadata": {},
   "source": [
    "4. Artık elimizde 0-100 arasında rastgele sıralanmış ve içerisinde eksik sayılar olan bir liste var. \n",
    "\n",
    "5. Boş bir liste ve eksik sayı sayısını yazacağımız için boş bir count değeri oluşturacağız. \n",
    "\n",
    "6. Bir for döngüsü kurarak 0-100 aralığındaki sayıları tek tek ele alacağız ve if ile listemizin içinde olup olmadığını kontrol edeceğiz.\n",
    "\n",
    "7. Her listemizde olmayan sayı için count değerini 1 arttıracağız ve listemizde olmayan sayıları yeni listemize append() metotu ile ekleyeceğiz. "
   ]
  },
  {
   "cell_type": "code",
   "execution_count": null,
   "metadata": {},
   "outputs": [],
   "source": [
    "my_list = [95, 79, 41, 100, 28, 1, 88, 77, 81, 76, 26, 85, 68, 35, 62, 57, 98, 69, 24, 45, 55, 44, 4, 21, 42, 64, 87, 36, 52, 10, 19, 37, 58, 29, 99, 25, 80, 48, 20, 14, 17, 53, 18, 7, 72, 47, 5, 93, 39, 86, 9, 3, 84, 43, 70, 22, 6, 73, 94, 66, 15, 56, 78, 92, 82, 54, 75, 59, 46, 63, 67, 30, 61, 71, 97, 96, 40, 90, 23, 8, 38, 65, 0, 31, 33, 11, 2, 74, 34, 51]\n",
    "the_list = []\n",
    "count = 0 \n",
    "\n",
    "for x in range(0, 101):\n",
    "  if x not in my_list:\n",
    "    count += 1\n",
    "    the_list.append(x)\n",
    "\n",
    "print(f\"0-100 arasında {count} tane sayı eksik. Ve eksik olan sayılar {the_list}\")"
   ]
  }
 ],
 "metadata": {
  "kernelspec": {
   "display_name": "Python 3.10.7 64-bit",
   "language": "python",
   "name": "python3"
  },
  "language_info": {
   "codemirror_mode": {
    "name": "ipython",
    "version": 3
   },
   "file_extension": ".py",
   "mimetype": "text/x-python",
   "name": "python",
   "nbconvert_exporter": "python",
   "pygments_lexer": "ipython3",
   "version": "3.10.7"
  },
  "orig_nbformat": 4,
  "vscode": {
   "interpreter": {
    "hash": "aee8b7b246df8f9039afb4144a1f6fd8d2ca17a180786b69acc140d282b71a49"
   }
  }
 },
 "nbformat": 4,
 "nbformat_minor": 2
}
