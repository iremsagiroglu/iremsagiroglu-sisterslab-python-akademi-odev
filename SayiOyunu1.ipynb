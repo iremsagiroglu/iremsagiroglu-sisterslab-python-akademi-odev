{
 "cells": [
  {
   "cell_type": "markdown",
   "metadata": {},
   "source": [
    "### Sayı Tahmin Oyunu\n",
    "Kullanıcının bilgisayarın rastgele tuttuğu sayıyı tahmin etmeye çalışacağı bir oyunun kodunu yazacağız.\n",
    "\n",
    "1. İlk olarak random modülünü içe aktaracağız\n",
    "2. guess adında bir fonksiyon tanımlayacağız\n",
    "3. Input ile kullanıcıdan tahminde bulunmasını isteyeceğiz\n",
    "4. Yapılan tahmine göre bilgisayarın kullanıcıyı yönlendirmesini sağlayacağız"
   ]
  },
  {
   "cell_type": "code",
   "execution_count": null,
   "metadata": {},
   "outputs": [],
   "source": [
    "from random import randint\n",
    "\n",
    "def guess(number):\n",
    "  user_number = int(input(\"Sayı tahmin oyunu için 1-100 arasında bir tahminde bulun \"))\n",
    "  while number != user_number:\n",
    "    if number < user_number:\n",
    "      print(\"Üzgünüm, daha küçük bir tahminde bulunmalısın.\")\n",
    "    else:\n",
    "      print(\"Üzgünüm, daha büyük bir tahminde bulunmalısın.\")\n",
    "    user_number = int(input(\"Lütfen yeniden bir tanminde bulun!\"))\n",
    "\n",
    "  print(\"Tebrikler, doğru tahmin\")\n",
    "\n",
    "guess(randint(1, 100))"
   ]
  }
 ],
 "metadata": {
  "kernelspec": {
   "display_name": "Python 3.10.7 64-bit",
   "language": "python",
   "name": "python3"
  },
  "language_info": {
   "name": "python",
   "version": "3.10.7"
  },
  "orig_nbformat": 4,
  "vscode": {
   "interpreter": {
    "hash": "aee8b7b246df8f9039afb4144a1f6fd8d2ca17a180786b69acc140d282b71a49"
   }
  }
 },
 "nbformat": 4,
 "nbformat_minor": 2
}
